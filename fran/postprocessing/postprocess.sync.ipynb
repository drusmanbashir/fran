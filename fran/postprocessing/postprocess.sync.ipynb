{
 "cells": [
  {
   "cell_type": "code",
   "execution_count": null,
   "id": "68c3bce9",
   "metadata": {
    "lines_to_next_cell": 0
   },
   "outputs": [],
   "source": [
    "%matplotlib inline\n",
    "%matplotlib widget\n",
    "\n",
    "import matplotlib.pyplot as plt\n",
    "from ipywidgets import interact, FloatSlider"
   ]
  },
  {
   "cell_type": "code",
   "execution_count": null,
   "id": "e66ae34d",
   "metadata": {},
   "outputs": [],
   "source": [
    "\n",
    "import operator\n",
    "import cc3d\n",
    "from fran.transforms.inferencetransforms import BacksampleMask\n",
    "from fran.inference.inference_base import ArrayToSITK\n",
    "from fran.utils.imageviewers import ImageMaskViewer\n",
    "from fastai.vision.augment import ToTensor, Transform, store_attr, typedispatch\n",
    "from fran.transforms.spatialtransforms import one_hot\n",
    "from fran.utils.common import *\n",
    "import SimpleITK as sitk\n",
    "from monai.metrics import *\n",
    "import functools as fl\n",
    "import itertools as il"
   ]
  },
  {
   "cell_type": "code",
   "execution_count": null,
   "id": "c0ecafae",
   "metadata": {
    "lines_to_next_cell": 0
   },
   "outputs": [],
   "source": [
    "\n",
    "\n",
    "@ToTensor\n",
    "def encodes(self,x:np.ndarray): \n",
    "   x = x.astype(np.uint8)\n",
    "   x_pt = torch.tensor(x,dtype=torch.uint8)\n",
    "   return x_pt\n",
    "\n",
    "@ToTensor\n",
    "def encodes(self,x:sitk.Image): \n",
    "   x_np = sitk.GetArrayFromImage(x)\n",
    "   x_pt = torch.from_numpy(x_np)\n",
    "   return x_pt"
   ]
  },
  {
   "cell_type": "code",
   "execution_count": null,
   "id": "b2d0e674",
   "metadata": {
    "lines_to_next_cell": 0
   },
   "outputs": [],
   "source": [
    "\n",
    "@typedispatch\n",
    "def img_shape(x:sitk.Image):\n",
    "   return x.GetSize()\n",
    "\n",
    "@typedispatch\n",
    "def img_shape(x:torch.Tensor):\n",
    "   return x.shape\n",
    "\n",
    "@ToTensor\n",
    "def encodes(self,x:sitk.Image): \n",
    "   x_np = sitk.GetArrayFromImage(x)\n",
    "   x_pt = torch.from_numpy(x_np)\n",
    "   return x_pt"
   ]
  },
  {
   "cell_type": "code",
   "execution_count": null,
   "id": "4357cd49",
   "metadata": {
    "lines_to_next_cell": 0
   },
   "outputs": [],
   "source": [
    "def randomize_labels(labels):\n",
    "    for label in range(1,labels.max()):\n",
    "        labels[labels==label]= random.randint(20,40)\n",
    "    return labels"
   ]
  },
  {
   "cell_type": "code",
   "execution_count": null,
   "id": "1da64a0a",
   "metadata": {},
   "outputs": [],
   "source": [
    "if __name__ == \"__main__\":\n",
    "    P = Project(project_title=\"lits\")\n",
    "    proj_defaults= P.proj_summary"
   ]
  },
  {
   "cell_type": "code",
   "execution_count": null,
   "id": "00f5f60a",
   "metadata": {},
   "outputs": [],
   "source": [
    "    configs_excel = ConfigMaker(proj_defaults.configuration_filename,raytune=False).config\n",
    "    train_list, valid_list, test_list = get_fold_case_ids(\n",
    "            fold=configs_excel['metadata'][\"fold\"],\n",
    "            json_fname=proj_defaults.validation_folds_filename,\n",
    "        )\n",
    "\n"
   ]
  },
  {
   "cell_type": "code",
   "execution_count": null,
   "id": "4e5213b1",
   "metadata": {
    "lines_to_next_cell": 0
   },
   "outputs": [],
   "source": [
    "    mask_files = list((proj_defaults.raw_data_folder/(\"masks\")).glob(\"*nii*\"))\n",
    "    img_files= list((proj_defaults.raw_data_folder/(\"images\")).glob(\"*nii*\"))\n",
    "    masks_valid = [filename for filename in mask_files if  get_case_id_from_filename(proj_defaults.project_title, filename) in valid_list]\n",
    "    masks_train = [filename for filename in mask_files if  get_case_id_from_filename(proj_defaults.project_title, filename) in train_list]\n",
    "    imgs_valid =  [proj_defaults.raw_data_folder/\"images\"/mask_file.name for mask_file in masks_valid]\n",
    "    imgs_test =  [filename for filename in img_files if  get_case_id_from_filename(proj_defaults.project_title, filename) in test_list]\n",
    "    imgs_train =  [filename for filename in img_files if  get_case_id_from_filename(proj_defaults.project_title, filename) in train_list]"
   ]
  },
  {
   "cell_type": "code",
   "execution_count": null,
   "id": "8257d855",
   "metadata": {
    "lines_to_next_cell": 0
   },
   "outputs": [],
   "source": [
    "    run_name = \"LITS-122\"\n",
    "    preds_folder = list(proj_defaults.predictions_folder.glob(f\"*{run_name}\"))[0]\n",
    "    pred_fns = list(preds_folder.glob(\"*\"))\n",
    "    pred_fn = pred_fns[0]\n",
    "    case_id = get_case_id_from_filename('lits',pred_fn)"
   ]
  },
  {
   "cell_type": "code",
   "execution_count": null,
   "id": "a1a22d03",
   "metadata": {
    "lines_to_next_cell": 0
   },
   "outputs": [],
   "source": [
    "    \n",
    "    mask_fn = [fn for fn in masks_train if 'lits-128' in str(fn)][0]\n",
    "    img_fn = [fn for fn in imgs_train if 'lits-128' in str(fn)][0]"
   ]
  },
  {
   "cell_type": "code",
   "execution_count": null,
   "id": "fb29102e",
   "metadata": {
    "lines_to_next_cell": 0
   },
   "outputs": [],
   "source": [
    "\n",
    "    img = sitk.ReadImage(img_fn)\n",
    "    img_np= sitk.GetArrayFromImage(img)\n",
    "    img_pt = torch.tensor(img_np)"
   ]
  },
  {
   "cell_type": "code",
   "execution_count": null,
   "id": "f935d748",
   "metadata": {
    "lines_to_next_cell": 0
   },
   "outputs": [],
   "source": [
    "    pred= sitk.ReadImage(pred_fn)\n",
    "    pred_np = sitk.GetArrayFromImage(pred)"
   ]
  },
  {
   "cell_type": "code",
   "execution_count": null,
   "id": "95a702b9",
   "metadata": {
    "lines_to_next_cell": 0
   },
   "outputs": [],
   "source": [
    "    mask = sitk.ReadImage(mask_fn)\n",
    "    img.SetOrigin((0,0,0))\n",
    "    mask.SetOrigin((0,0,0))\n",
    "    sitk.WriteImage(img,'tmp/img.nii')\n",
    "    sitk.WriteImage(mask,'tmp/mask.nii')"
   ]
  },
  {
   "cell_type": "code",
   "execution_count": null,
   "id": "63f2bb80",
   "metadata": {
    "lines_to_next_cell": 0
   },
   "outputs": [],
   "source": [
    "    mask_np= sitk.GetArrayFromImage(mask)\n",
    "    mask_pt = torch.tensor(mask_np)\n",
    "    mask_np[mask_np==1] =0\n",
    "    pred_np[pred_np==1] =0\n",
    "    spacings = pred.GetSpacing()\n",
    "    voxvol = fl.reduce(operator.mul,spacings)  # mm3"
   ]
  },
  {
   "cell_type": "code",
   "execution_count": null,
   "id": "722d4352",
   "metadata": {
    "lines_to_next_cell": 0
   },
   "outputs": [],
   "source": [
    "    labels_org, N_org = cc3d.connected_components(mask_np, return_N=True) \n",
    "    labels_pred, N_pred = cc3d.connected_components(pred_np, return_N=True) \n",
    "    lpr = randomize_labels(labels_pred.copy())\n",
    "\n",
    "    stats_pred  = cc3d.statistics(labels_pred)\n",
    "    stats_org = cc3d.statistics(labels_org)\n",
    "    centroids_org, centroids_pred = [stats['centroids'][1:] for stats in [stats_org,stats_pred]]\n",
    "    bbox_org, bbox_pred = [stats['bounding_boxes'][1:] for stats in [stats_org,stats_pred]]"
   ]
  },
  {
   "cell_type": "code",
   "execution_count": null,
   "id": "96e3f579",
   "metadata": {},
   "outputs": [],
   "source": []
  },
  {
   "cell_type": "code",
   "execution_count": null,
   "id": "2b07e4d2",
   "metadata": {
    "lines_to_next_cell": 0
   },
   "outputs": [],
   "source": [
    "    def respace_centroids_sitk_format(centroids_np,spacings_sitk):\n",
    "        centroids_sitk = centroids_np[:,::-1]\n",
    "        centroids_rescaled= centroids_sitk*spacings_sitk\n",
    "        return centroids_rescaled"
   ]
  },
  {
   "cell_type": "code",
   "execution_count": null,
   "id": "6d68453a",
   "metadata": {
    "lines_to_next_cell": 2
   },
   "outputs": [],
   "source": []
  },
  {
   "cell_type": "code",
   "execution_count": null,
   "id": "131f2f2f",
   "metadata": {
    "lines_to_next_cell": 0
   },
   "outputs": [],
   "source": [
    "    z_max=5 # 3mm\n",
    "    com, cpm= [respace_centroids_sitk_format(centroids,spacings) for centroids in  [centroids_org,centroids_pred]]"
   ]
  },
  {
   "cell_type": "code",
   "execution_count": null,
   "id": "4893868d",
   "metadata": {
    "lines_to_next_cell": 0
   },
   "outputs": [],
   "source": [
    "    ImageMaskViewer([img_np,labels_org],data_types=['img','mask']) # \n",
    "    ImageMaskViewer([lpr,labels_pred],data_types=['mask','mask']) # "
   ]
  },
  {
   "cell_type": "code",
   "execution_count": null,
   "id": "97b3035a",
   "metadata": {},
   "outputs": [],
   "source": []
  },
  {
   "cell_type": "code",
   "execution_count": null,
   "id": "73f9790a",
   "metadata": {
    "lines_to_next_cell": 0
   },
   "outputs": [],
   "source": []
  },
  {
   "cell_type": "markdown",
   "id": "c42ebe32",
   "metadata": {
    "lines_to_next_cell": 0
   },
   "source": [
    "# Distances"
   ]
  },
  {
   "cell_type": "code",
   "execution_count": null,
   "id": "d42135b1",
   "metadata": {
    "lines_to_next_cell": 0
   },
   "outputs": [],
   "source": [
    "    label_index = 7\n",
    "    cp = cpm[label_index-1]\n",
    "    distances =   np.sqrt(np.sum((cp-com)**2,1))"
   ]
  },
  {
   "cell_type": "code",
   "execution_count": null,
   "id": "20c0fb09",
   "metadata": {},
   "outputs": [],
   "source": [
    "\n",
    "    if not any(distances<z_max): print(\"Label {} is a false positive lesion\".format(label_index))\n",
    "    else: print(np.argmin(distances)+1, distances.min())"
   ]
  },
  {
   "cell_type": "code",
   "execution_count": null,
   "id": "1447160b",
   "metadata": {
    "lines_to_next_cell": 0
   },
   "outputs": [],
   "source": [
    "\n",
    "    #Jaccard\n",
    "    n_classes = np.maximum(N_pred,N_org)+ 1 # 1 bg class"
   ]
  },
  {
   "cell_type": "code",
   "execution_count": null,
   "id": "025194ed",
   "metadata": {},
   "outputs": [],
   "source": []
  },
  {
   "cell_type": "code",
   "execution_count": null,
   "id": "903528ef",
   "metadata": {
    "lines_to_next_cell": 0
   },
   "outputs": [],
   "source": [
    "    AS = ArrayToSITK(img)\n",
    "    label_sitk = AS.encodes(labels_org)\n",
    "    sitk.WriteImage(label_sitk,'tmp/labels_org.nii')"
   ]
  },
  {
   "cell_type": "code",
   "execution_count": null,
   "id": "fe15ed60",
   "metadata": {
    "lines_to_next_cell": 3
   },
   "outputs": [],
   "source": [
    "    T = ToTensor()\n",
    "    BM = BacksampleMask(img)\n",
    "    y = T.encodes(labels_pred)\n",
    "    y = BM(y)\n",
    "    lt = T(labels_pred) "
   ]
  }
 ],
 "metadata": {
  "jupytext": {
   "cell_metadata_filter": "-all",
   "main_language": "python",
   "notebook_metadata_filter": "-all"
  }
 },
 "nbformat": 4,
 "nbformat_minor": 5
}
