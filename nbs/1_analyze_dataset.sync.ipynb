{
 "cells": [
  {
   "cell_type": "code",
   "execution_count": 1,
   "id": "a053ca1c",
   "metadata": {
    "lines_to_next_cell": 0
   },
   "outputs": [],
   "source": [
    "\n",
    "import sys;\n",
    "\n",
    "sys.path+= [\"..\"]\n",
    "import os;\n",
    "from fran.utils.helpers import *\n",
    "from fran.preprocessing.datasetanalyzers import *\n",
    "from fran.utils.helpers import *\n",
    "from fran.utils.fileio import *\n",
    "from fran.utils.config import *"
   ]
  },
  {
   "cell_type": "markdown",
   "id": "75e6c4aa",
   "metadata": {},
   "source": [
    "# Load project defaults "
   ]
  },
  {
   "cell_type": "code",
   "execution_count": 2,
   "id": "91b05c55",
   "metadata": {},
   "outputs": [],
   "source": [
    "\n",
    "common_paths_filename=\"config.yaml\"\n",
    "proj_defaults = load_proj_defaults(common_paths_filename,project_title=\"kits21\")"
   ]
  },
  {
   "cell_type": "code",
   "execution_count": null,
   "id": "21731bdf",
   "metadata": {},
   "outputs": [],
   "source": []
  },
  {
   "cell_type": "markdown",
   "id": "53bb9c91",
   "metadata": {},
   "source": [
    "# Examine the default values to orient yourself "
   ]
  },
  {
   "cell_type": "code",
   "execution_count": 6,
   "id": "347387f8",
   "metadata": {},
   "outputs": [
    {
     "name": "stdout",
     "output_type": "stream",
     "text": [
      "namespace(project_title='kits21',\n",
      "          raw_data_folder=Path('/s/datasets/raw_data/kits21'),\n",
      "          preprocessing_output_folder=Path('/home/ub/datasets/preprocessed/kits21'),\n",
      "          stage0_folder=Path('/home/ub/datasets/preprocessed/kits21/stage0_resampled'),\n",
      "          stage1_folder=Path('/home/ub/datasets/preprocessed/kits21/stage1_lowres'),\n",
      "          stage2_folder=Path('/home/ub/datasets/preprocessed/kits21/stage2_patches'),\n",
      "          raw_dataset_properties_filename=Path('/s/datasets/raw_data/kits21/raw_dataset_properties'),\n",
      "          global_properties_filename=Path('/s/datasets/raw_data/kits21/global_properties'),\n",
      "          bboxes_voxels_info_filename=Path('/s/datasets/raw_data/kits21/bboxes_voxels_info'),\n",
      "          resampled_dataset_properties_filename=Path('/home/ub/datasets/preprocessed/kits21/stage0_resampled/resampled_dataset_properties'),\n",
      "          experiments_folder=Path('/home/ub/Dropbox/code/fran/experiments/kits21'),\n",
      "          neptune_folder=Path('/home/ub/fran/experiments/.neptune'),\n",
      "          configuration_filename=Path('/home/ub/Dropbox/code/fran/experiments/kits21/metadata/experiment_configs.xlsx'),\n",
      "          validation_folds_filename=Path('/home/ub/Dropbox/code/fran/experiments/kits21/metadata/validation_folds.json'),\n",
      "          mask_labels=[{'dusting_threshold': 3000,\n",
      "                        'k_largest': 2,\n",
      "                        'label': 1,\n",
      "                        'name': 'kidney'},\n",
      "                       {'dusting_threshold': 50,\n",
      "                        'k_largest': 5,\n",
      "                        'label': 2,\n",
      "                        'name': 'tumour'},\n",
      "                       {'dusting_threshold': 50,\n",
      "                        'k_largest': 5,\n",
      "                        'label': 3,\n",
      "                        'name': 'cyst'}],\n",
      "          label_priority=[1, 3, 2],\n",
      "          predictions_folder=Path('/s/datasets/predictions/kits21'),\n",
      "          checkpoints_parent_folder=Path('/s/checkpoints/kits21'))\n"
     ]
    }
   ],
   "source": [
    "pp(proj_defaults)"
   ]
  },
  {
   "cell_type": "markdown",
   "id": "235f2ee2",
   "metadata": {
    "lines_to_next_cell": 0
   },
   "source": [
    "# Analyse raw dataset"
   ]
  },
  {
   "cell_type": "code",
   "execution_count": null,
   "id": "dfada398",
   "metadata": {},
   "outputs": [],
   "source": [
    "\n",
    "\n",
    "M = MultiCaseAnalyzer(proj_defaults, outside_value=0)"
   ]
  },
  {
   "cell_type": "markdown",
   "id": "7de2f440",
   "metadata": {},
   "source": [
    "## This first step extracts foreground voxels of entire dataset and stores them in a large h5py file."
   ]
  },
  {
   "cell_type": "code",
   "execution_count": null,
   "id": "a6b135a5",
   "metadata": {
    "lines_to_next_cell": 0
   },
   "outputs": [
    {
     "name": "stdout",
     "output_type": "stream",
     "text": [
      "Voxels inside bbox will be dumped into: /s/datasets/raw_data/kits21/bboxes_voxels_info\n"
     ]
    },
    {
     "name": "stderr",
     "output_type": "stream",
     "text": [
      "  2%|███                                                                                                                                                      | 6/300 [00:29<18:40,  3.81s/it]"
     ]
    }
   ],
   "source": [
    "M.get_nii_bbox_properties(num_processes=24,\n",
    "                          debug=False,\n",
    "                          overwrite=True,\n",
    "                          multiprocess=True)\n",
    "\n",
    "M.store_projectwide_properties()\n",
    "#note: bbox is short for bounding box"
   ]
  },
  {
   "cell_type": "markdown",
   "id": "78cce440",
   "metadata": {
    "lines_to_next_cell": 0
   },
   "source": [
    "## The created h5py file yields foreground mean, std, and percentile values for later data processing"
   ]
  },
  {
   "cell_type": "code",
   "execution_count": null,
   "id": "27133d86",
   "metadata": {},
   "outputs": [],
   "source": [
    "\n",
    "\n",
    "M.compute_std_mean_dataset()"
   ]
  }
 ],
 "metadata": {
  "jupytext": {
   "formats": "ipynb,py:hydrogen"
  },
  "kernelspec": {
   "display_name": "Python 3 (ipykernel)",
   "language": "python",
   "name": "python3"
  },
  "language_info": {
   "codemirror_mode": {
    "name": "ipython",
    "version": 3
   },
   "file_extension": ".py",
   "mimetype": "text/x-python",
   "name": "python",
   "nbconvert_exporter": "python",
   "pygments_lexer": "ipython3",
   "version": "3.9.15"
  }
 },
 "nbformat": 4,
 "nbformat_minor": 5
}
