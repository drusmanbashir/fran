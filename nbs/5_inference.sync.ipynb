{
 "cells": [
  {
   "cell_type": "code",
   "execution_count": 1,
   "id": "a00a81d9",
   "metadata": {
    "lines_to_next_cell": 0
   },
   "outputs": [
    {
     "name": "stdout",
     "output_type": "stream",
     "text": [
      "/home/ub/Dropbox/code/fran/nbs\n"
     ]
    },
    {
     "name": "stderr",
     "output_type": "stream",
     "text": [
      "/home/ub/programs/miniconda3/lib/python3.9/site-packages/mmcv/__init__.py:20: UserWarning: On January 1, 2023, MMCV will release v2.0.0, in which it will remove components related to the training process and add a data transformation module. In addition, it will rename the package names mmcv to mmcv-lite and mmcv-full to mmcv. See https://github.com/open-mmlab/mmcv/blob/master/docs/en/compatibility.md for more details.\n",
      "  warnings.warn(\n"
     ]
    },
    {
     "name": "stdout",
     "output_type": "stream",
     "text": [
      "https://app.neptune.ai/drusmanbashir/KiTS19/\n",
      "Remember to stop your project once you’ve finished logging your metadata (https://docs.neptune.ai/api-reference/project#.stop). It will be stopped automatically only when the notebook kernel/interactive console is terminated.\n"
     ]
    }
   ],
   "source": [
    "\n",
    "import sys\n",
    "from fran.inference.inference_raytune_models import BoundingBoxes_to_lists, ModelFromTuneTrial\n",
    "from fran.transforms.spatialtransforms import *\n",
    "from fran.managers.learner_plus import *\n",
    "from fran.managers.raytune_manager import *\n",
    "from fran.inference.inference_base import *\n",
    "from fran.inference.inference_neptune_models import *\n",
    "from fran.utils.imageviewers import *\n",
    "from fran.managers.raytune_manager import *\n",
    "from fran.utils.helpers import *"
   ]
  },
  {
   "cell_type": "code",
   "execution_count": 3,
   "id": "959d3c98",
   "metadata": {},
   "outputs": [],
   "source": [
    "sys.path+= [\"..\"]\n",
    "import os; \n",
    "print(os.getcwd())"
   ]
  },
  {
   "cell_type": "code",
   "execution_count": 4,
   "id": "03b08a18",
   "metadata": {},
   "outputs": [],
   "source": [
    "#For myself\n",
    "if is_notebook() == False:\n",
    "    os.chdir(\"nbs\")\n",
    "common_paths_filename=\"config.yaml\"\n",
    "proj_defaults = load_proj_defaults(common_paths_filename,\"kits21\")\n",
    "config_dict =  load_config_from_workbook(proj_defaults.configuration_filename, raytune=False)\n",
    "\n",
    "common_paths_filename=\"config.yaml\"\n",
    "proj_defaults = load_proj_defaults(common_paths_filename,\"kits21\")"
   ]
  },
  {
   "cell_type": "code",
   "execution_count": null,
   "id": "4ec66693",
   "metadata": {
    "lines_to_next_cell": 0
   },
   "outputs": [],
   "source": []
  },
  {
   "cell_type": "markdown",
   "id": "7c89e7df",
   "metadata": {
    "lines_to_next_cell": 0
   },
   "source": [
    "# Processing KiTS21 test set"
   ]
  },
  {
   "cell_type": "code",
   "execution_count": null,
   "id": "389e02a7",
   "metadata": {},
   "outputs": [],
   "source": [
    "\n",
    "train_list,valid_list,test_list = get_train_valid_test_lists_from_json(fold=0, json_fname=proj_defaults.validation_folds_filename,image_folder=proj_defaults.raw_data_folder/\"imagesTr\",ext=\".nii.gz\")\n",
    "\n",
    "\n",
    "\n",
    "resampled_dataset_properties= load_dict(proj_defaults.resampled_dataset_properties_filename)\n",
    "mask_files=[ proj_defaults.raw_data_folder/\"masksTr\"/test_file.name.replace(\".npy\",\".nii.grz\") for test_file in test_list]\n",
    "img_files =  [proj_defaults.raw_data_folder/\"imagesTr\"/mask_file.name for mask_file in mask_files]"
   ]
  },
  {
   "cell_type": "code",
   "execution_count": null,
   "id": "e61609c3",
   "metadata": {
    "lines_to_next_cell": 0
   },
   "outputs": [],
   "source": [
    "\n",
    "\n",
    "run_name_w= \"KITS-2284\" # best trial\n",
    "run_name_p  =\"KITS-2302\"\n",
    "E = EndToEndPredictor(proj_defaults,run_name_w,run_name_p,use_neptune=True,save_localiser=True )"
   ]
  },
  {
   "cell_type": "code",
   "execution_count": null,
   "id": "8d970ee9",
   "metadata": {
    "lines_to_next_cell": 0
   },
   "outputs": [],
   "source": []
  },
  {
   "cell_type": "markdown",
   "id": "36b10242",
   "metadata": {
    "lines_to_next_cell": 0
   },
   "source": [
    "# Predicting all test cases in fold0 split: train,valid, test\n",
    "## Note: Although each fold uses a different train / valid combination, the test cases remain the same and so never participate in model creation. So it does not matter what fold you select in getting your files"
   ]
  },
  {
   "cell_type": "code",
   "execution_count": null,
   "id": "7429fee8",
   "metadata": {
    "lines_to_next_cell": 0
   },
   "outputs": [],
   "source": [
    "\n",
    "results = []\n",
    "BB = BoundingBoxes_to_lists()\n",
    "for n in pbar(range(len(img_files))):\n",
    "    E.predict(img_fn=img_files[n])\n",
    "    E.score_prediction(mask_fn = mask_files[n])\n",
    "    bb = E.predictor_w.get_bbox_from_pred()\n",
    "    bounding_boxes = BB.encodes(bb)\n",
    "    score = E.scores\n",
    "    results.append({\n",
    "            'case_id': E.case_id,\n",
    "            'img_filename': img_files[n],\n",
    "            'mask_filename': mask_files[n],\n",
    "            'prediction_filename': E.predictor_p.pred_fn,\n",
    "            'score0': score[0,0],\n",
    "            'score1': score[1,0],\n",
    "            'score2': score[2,0],\n",
    "\n",
    "            'bounding_boxes':bounding_boxes\n",
    "    })"
   ]
  },
  {
   "cell_type": "code",
   "execution_count": null,
   "id": "0777f422",
   "metadata": {
    "lines_to_next_cell": 0
   },
   "outputs": [],
   "source": []
  },
  {
   "cell_type": "markdown",
   "id": "80a210b6",
   "metadata": {
    "lines_to_next_cell": 0
   },
   "source": [
    "# Storing prediction scores in file"
   ]
  },
  {
   "cell_type": "code",
   "execution_count": null,
   "id": "01ff9177",
   "metadata": {
    "lines_to_next_cell": 0
   },
   "outputs": [],
   "source": [
    "\n",
    "df = pd.DataFrame(results)\n",
    "df.to_csv(E.output_image_folder/('results.csv'))\n",
    "print(\"Saved results to : {}\".format(E.output_image_folder/('results.csv')))"
   ]
  },
  {
   "cell_type": "code",
   "execution_count": null,
   "id": "ac569356",
   "metadata": {
    "lines_to_next_cell": 0
   },
   "outputs": [],
   "source": []
  },
  {
   "cell_type": "markdown",
   "id": "18ecd053",
   "metadata": {
    "lines_to_next_cell": 0
   },
   "source": [
    "# Simple stats"
   ]
  },
  {
   "cell_type": "code",
   "execution_count": null,
   "id": "b3fde02d",
   "metadata": {
    "lines_to_next_cell": 0
   },
   "outputs": [],
   "source": [
    "print(\"Median label1 score: {0}\\nMedial label2 score: {1}\\nMedial label3 score: {2}\".format(df['score0'].median(), df['score1'].median(), df['score2'].median()))"
   ]
  },
  {
   "cell_type": "markdown",
   "id": "fb06f181",
   "metadata": {
    "lines_to_next_cell": 0
   },
   "source": [
    "# Extra: get patch_size from Bounding Box"
   ]
  },
  {
   "cell_type": "code",
   "execution_count": null,
   "id": "a7a323fe",
   "metadata": {},
   "outputs": [],
   "source": [
    "\n",
    "B = BBoxesToPatchSize(E.predictor_p.patch_size,E.predictor_p.sz_dest,0.1)\n",
    "pp(B)"
   ]
  },
  {
   "cell_type": "code",
   "execution_count": null,
   "id": "ae0020ca",
   "metadata": {},
   "outputs": [],
   "source": []
  }
 ],
 "metadata": {
  "jupytext": {
   "cell_metadata_filter": "-all",
   "notebook_metadata_filter": "-all"
  },
  "kernelspec": {
   "display_name": "Python 3 (ipykernel)",
   "language": "python",
   "name": "python3"
  },
  "language_info": {
   "codemirror_mode": {
    "name": "ipython",
    "version": 3
   },
   "file_extension": ".py",
   "mimetype": "text/x-python",
   "name": "python",
   "nbconvert_exporter": "python",
   "pygments_lexer": "ipython3",
   "version": "3.9.15"
  }
 },
 "nbformat": 4,
 "nbformat_minor": 5
}
