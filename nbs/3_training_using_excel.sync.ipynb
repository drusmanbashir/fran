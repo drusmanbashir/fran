{
 "cells": [
  {
   "cell_type": "code",
   "execution_count": 1,
   "id": "2443f634",
   "metadata": {
    "lines_to_next_cell": 0
   },
   "outputs": [
    {
     "name": "stderr",
     "output_type": "stream",
     "text": [
      "/home/ub/programs/miniconda3/lib/python3.9/site-packages/mmcv/__init__.py:20: UserWarning: On January 1, 2023, MMCV will release v2.0.0, in which it will remove components related to the training process and add a data transformation module. In addition, it will rename the package names mmcv to mmcv-lite and mmcv-full to mmcv. See https://github.com/open-mmlab/mmcv/blob/master/docs/en/compatibility.md for more details.\n",
      "  warnings.warn(\n"
     ]
    },
    {
     "name": "stdout",
     "output_type": "stream",
     "text": [
      "https://app.neptune.ai/drusmanbashir/KiTS19/\n",
      "Remember to stop your project once you’ve finished logging your metadata (https://docs.neptune.ai/api-reference/project#.stop). It will be stopped automatically only when the notebook kernel/interactive console is terminated.\n",
      "/home/ub/Dropbox/code/fran/nbs\n"
     ]
    }
   ],
   "source": [
    "\n",
    "\n",
    "import sys\n",
    "from fran.managers.learner_plus import *\n",
    "\n",
    "sys.path+= [\"..\"]\n",
    "import os; \n",
    "print(os.getcwd())\n",
    "from fran.utils.helpers import *"
   ]
  },
  {
   "cell_type": "code",
   "execution_count": null,
   "id": "a938bc4a",
   "metadata": {
    "lines_to_next_cell": 0
   },
   "outputs": [],
   "source": [
    "#For my (Usman's) use. Delete if you want.\n",
    "if is_notebook() == False:\n",
    "  os.chdir(\"nbs\")"
   ]
  },
  {
   "cell_type": "code",
   "execution_count": 2,
   "id": "5baab525",
   "metadata": {},
   "outputs": [],
   "source": [
    "common_paths_filename=\"config.yaml\"\n",
    "proj_defaults = load_proj_defaults(common_paths_filename,\"kits21\")\n",
    "config_dict =  load_config_from_workbook(proj_defaults.configuration_filename, raytune=False)"
   ]
  },
  {
   "cell_type": "markdown",
   "id": "cd58a04b",
   "metadata": {
    "lines_to_next_cell": 0
   },
   "source": [
    "# Most basic learner: reads configurations from the excel spreadsheet."
   ]
  },
  {
   "cell_type": "code",
   "execution_count": 3,
   "id": "d6184474",
   "metadata": {
    "lines_to_next_cell": 0
   },
   "outputs": [
    {
     "name": "stdout",
     "output_type": "stream",
     "text": [
      "Loading dataset from BBox file /home/ub/datasets/preprocessed/kits21/stage2_patches/64_160_160/bboxes_info\n",
      "Loading dataset from BBox file /home/ub/datasets/preprocessed/kits21/stage2_patches/64_160_160/bboxes_info\n"
     ]
    }
   ],
   "source": [
    "\n",
    "\n",
    "\n",
    "La = LearnerManager.fromExcel(proj_defaults)\n",
    "learn = La.create_learner()"
   ]
  },
  {
   "cell_type": "code",
   "execution_count": 4,
   "id": "36d10139",
   "metadata": {},
   "outputs": [
    {
     "data": {
      "text/html": [
       "\n",
       "<style>\n",
       "    /* Turns off some styling */\n",
       "    progress {\n",
       "        /* gets rid of default border in Firefox and Opera. */\n",
       "        border: none;\n",
       "        /* Needs to be in here for Safari polyfill so background images work as expected. */\n",
       "        background-size: auto;\n",
       "    }\n",
       "    progress:not([value]), progress:not([value])::-webkit-progress-bar {\n",
       "        background: repeating-linear-gradient(45deg, #7e7e7e, #7e7e7e 10px, #5c5c5c 10px, #5c5c5c 20px);\n",
       "    }\n",
       "    .progress-bar-interrupted, .progress-bar-interrupted::-webkit-progress-bar {\n",
       "        background: #F44336;\n",
       "    }\n",
       "</style>\n"
      ],
      "text/plain": [
       "<IPython.core.display.HTML object>"
      ]
     },
     "metadata": {},
     "output_type": "display_data"
    },
    {
     "data": {
      "text/html": [
       "<table border=\"1\" class=\"dataframe\">\n",
       "  <thead>\n",
       "    <tr style=\"text-align: left;\">\n",
       "      <th>epoch</th>\n",
       "      <th>train_loss</th>\n",
       "      <th>valid_loss</th>\n",
       "      <th>time</th>\n",
       "    </tr>\n",
       "  </thead>\n",
       "  <tbody>\n",
       "    <tr>\n",
       "      <td>0</td>\n",
       "      <td>0.584921</td>\n",
       "      <td>0.752053</td>\n",
       "      <td>00:17</td>\n",
       "    </tr>\n",
       "    <tr>\n",
       "      <td>1</td>\n",
       "      <td>0.549696</td>\n",
       "      <td>0.528094</td>\n",
       "      <td>00:17</td>\n",
       "    </tr>\n",
       "  </tbody>\n",
       "</table>"
      ],
      "text/plain": [
       "<IPython.core.display.HTML object>"
      ]
     },
     "metadata": {},
     "output_type": "display_data"
    }
   ],
   "source": [
    "#Increase n_epoch to 50-100 to start seeing actual performance.\n",
    "learn.fit(n_epoch=2, lr=0.01)"
   ]
  },
  {
   "cell_type": "code",
   "execution_count": null,
   "id": "7dc439ac",
   "metadata": {
    "lines_to_next_cell": 0
   },
   "outputs": [],
   "source": []
  },
  {
   "cell_type": "markdown",
   "id": "87409f8d",
   "metadata": {
    "lines_to_next_cell": 0
   },
   "source": [
    "# Learner with callbacks to store metrics on Neptune, including ImageGrids"
   ]
  },
  {
   "cell_type": "code",
   "execution_count": 5,
   "id": "5b38be45",
   "metadata": {},
   "outputs": [
    {
     "name": "stdout",
     "output_type": "stream",
     "text": [
      "https://app.neptune.ai/drusmanbashir/KiTS19/\n",
      "Remember to stop your project once you’ve finished logging your metadata (https://docs.neptune.ai/api-reference/project#.stop). It will be stopped automatically only when the notebook kernel/interactive console is terminated.\n"
     ]
    }
   ],
   "source": [
    "\n",
    "cbs = []\n",
    "cbs += [\n",
    "\n",
    "    ReduceLROnPlateau(patience=10),\n",
    "    NeptuneCheckpointCallback(checkpoints_parent_folder=proj_defaults.checkpoints_parent_folder),\n",
    "    NeptuneCallback(proj_defaults,config_dict,run_name=None),\n",
    "\n",
    "    NeptuneImageGridCallback(classes = out_channels_from_dict_or_cell(config_dict['metadata']['dest_labels']), \n",
    "                                 patch_size= make_patch_size(config_dict['dataset_params']['patch_dim0'], config_dict['dataset_params']['patch_dim1'])),\n",
    "\n",
    "    ]\n"
   ]
  },
  {
   "cell_type": "code",
   "execution_count": 6,
   "id": "718559b4",
   "metadata": {
    "lines_to_next_cell": 0
   },
   "outputs": [
    {
     "name": "stdout",
     "output_type": "stream",
     "text": [
      "Loading dataset from BBox file /home/ub/datasets/preprocessed/kits21/stage2_patches/64_160_160/bboxes_info\n",
      "Loading dataset from BBox file /home/ub/datasets/preprocessed/kits21/stage2_patches/64_160_160/bboxes_info\n"
     ]
    }
   ],
   "source": [
    "\n",
    "\n",
    "La = LearnerManager(proj_defaults=proj_defaults,config_dict=config_dict,cbs=cbs)"
   ]
  },
  {
   "cell_type": "code",
   "execution_count": 7,
   "id": "c5d482c5",
   "metadata": {},
   "outputs": [
    {
     "name": "stdout",
     "output_type": "stream",
     "text": [
      "https://app.neptune.ai/drusmanbashir/KiTS19/e/KITS-2208\n",
      "Remember to stop your run once you’ve finished logging your metadata (https://docs.neptune.ai/api-reference/run#.stop). It will be stopped automatically only when the notebook kernel/interactive console is terminated.\n",
      "Initializing new run. Run name KITS-2208 \n",
      "Loading model state from /s/checkpoints/kits21/KITS-2208\n",
      "model does not exist in folder /s/checkpoints/kits21/KITS-2208\n",
      "Training with new initialization.\n"
     ]
    },
    {
     "data": {
      "text/html": [
       "\n",
       "<style>\n",
       "    /* Turns off some styling */\n",
       "    progress {\n",
       "        /* gets rid of default border in Firefox and Opera. */\n",
       "        border: none;\n",
       "        /* Needs to be in here for Safari polyfill so background images work as expected. */\n",
       "        background-size: auto;\n",
       "    }\n",
       "    progress:not([value]), progress:not([value])::-webkit-progress-bar {\n",
       "        background: repeating-linear-gradient(45deg, #7e7e7e, #7e7e7e 10px, #5c5c5c 10px, #5c5c5c 20px);\n",
       "    }\n",
       "    .progress-bar-interrupted, .progress-bar-interrupted::-webkit-progress-bar {\n",
       "        background: #F44336;\n",
       "    }\n",
       "</style>\n"
      ],
      "text/plain": [
       "<IPython.core.display.HTML object>"
      ]
     },
     "metadata": {},
     "output_type": "display_data"
    },
    {
     "data": {
      "text/html": [
       "<table border=\"1\" class=\"dataframe\">\n",
       "  <thead>\n",
       "    <tr style=\"text-align: left;\">\n",
       "      <th>epoch</th>\n",
       "      <th>train_loss</th>\n",
       "      <th>valid_loss</th>\n",
       "      <th>time</th>\n",
       "    </tr>\n",
       "  </thead>\n",
       "  <tbody>\n",
       "    <tr>\n",
       "      <td>0</td>\n",
       "      <td>0.588181</td>\n",
       "      <td>0.593122</td>\n",
       "      <td>00:16</td>\n",
       "    </tr>\n",
       "    <tr>\n",
       "      <td>1</td>\n",
       "      <td>0.545172</td>\n",
       "      <td>0.590730</td>\n",
       "      <td>00:17</td>\n",
       "    </tr>\n",
       "  </tbody>\n",
       "</table>"
      ],
      "text/plain": [
       "<IPython.core.display.HTML object>"
      ]
     },
     "metadata": {},
     "output_type": "display_data"
    },
    {
     "name": "stdout",
     "output_type": "stream",
     "text": [
      "Better model found at epoch 0 with valid_loss value: 0.5931221842765808.\n",
      "Better model found at epoch 1 with valid_loss value: 0.5907300114631653.\n",
      "Shutting down background jobs, please wait a moment...\n",
      "Done!\n",
      "Waiting for the remaining 65 operations to synchronize with Neptune. Do not kill this process.\n",
      "All 65 operations synced, thanks for waiting!\n",
      "Explore the metadata in the Neptune app:\n",
      "https://app.neptune.ai/drusmanbashir/KiTS19/e/KITS-2208\n"
     ]
    }
   ],
   "source": [
    "learn = La.create_learner()\n",
    "learn.fit(n_epoch=2, lr=0.01)"
   ]
  },
  {
   "cell_type": "code",
   "execution_count": null,
   "id": "3034b57c",
   "metadata": {},
   "outputs": [],
   "source": [
    "#Make note of model name above in case you want to re-use it. Its checkpoint folder location is uploaded in Neptune."
   ]
  }
 ],
 "metadata": {
  "kernelspec": {
   "display_name": "Python 3 (ipykernel)",
   "language": "python",
   "name": "python3"
  },
  "language_info": {
   "codemirror_mode": {
    "name": "ipython",
    "version": 3
   },
   "file_extension": ".py",
   "mimetype": "text/x-python",
   "name": "python",
   "nbconvert_exporter": "python",
   "pygments_lexer": "ipython3",
   "version": "3.10.8"
  }
 },
 "nbformat": 4,
 "nbformat_minor": 5
}
